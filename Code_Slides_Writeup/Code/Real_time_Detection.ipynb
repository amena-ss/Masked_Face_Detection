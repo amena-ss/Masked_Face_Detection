{
 "cells": [
  {
   "cell_type": "code",
   "execution_count": 1,
   "id": "cd34f66f",
   "metadata": {},
   "outputs": [],
   "source": [
    "import cv2 \n",
    "import numpy as np\n",
    "import matplotlib.pyplot as plt \n",
    "from tensorflow import keras\n",
    "import time"
   ]
  },
  {
   "cell_type": "code",
   "execution_count": 2,
   "id": "19ae96b3",
   "metadata": {},
   "outputs": [],
   "source": [
    "#loaded_model = tf.keras.models.load_model(\"model.h5\")\n",
    "model = keras.models.load_model('../MaskDetection.h5')"
   ]
  },
  {
   "cell_type": "code",
   "execution_count": 3,
   "id": "9c3afb3e",
   "metadata": {},
   "outputs": [],
   "source": [
    "face_cascade = cv2.CascadeClassifier('../haarcascade_frontalface_default.xml')"
   ]
  },
  {
   "cell_type": "code",
   "execution_count": 5,
   "id": "ae3f6139",
   "metadata": {},
   "outputs": [],
   "source": [
    "my_dict = {1:'No mask' , 0:'Mask'}"
   ]
  },
  {
   "cell_type": "code",
   "execution_count": null,
   "id": "a565d16a",
   "metadata": {},
   "outputs": [],
   "source": [
    "def detect_face(img):\n",
    "    \n",
    "  \n",
    "    face_img = img.copy()\n",
    "  \n",
    "    face_rects = face_cascade.detectMultiScale(face_img) \n",
    "    \n",
    "    if len(face_rects) > 0 :\n",
    "        \n",
    "    \n",
    "        for (x,y,w,h) in face_rects: \n",
    "            cv2.rectangle(face_img, (x,y), (x+w,y+h), (255,255,255), 10)\n",
    "            cut_face = face_img[y:y+h,x:x+w]\n",
    "            resize = cv2.resize(cut_face,dsize=(96,96))\n",
    "            full = np.reshape(resize,(1,96,96,3))\n",
    "            pred = model.predict(full)\n",
    "            cv2.putText(face_img, my_dict[round(int(model.predict(full)))], ((x+w)//2,(y+h+30)) , cv2.FONT_HERSHEY_COMPLEX, \n",
    "                1, (0,0,255), 1, cv2.LINE_AA)\n",
    "        return face_img\n",
    "    else:\n",
    "        cv2.putText(face_img, 'no face ', (400,600) , cv2.FONT_HERSHEY_COMPLEX, \n",
    "                5, (255,0,0), 1, cv2.LINE_AA)\n",
    "        return face_img"
   ]
  },
  {
   "cell_type": "code",
   "execution_count": 8,
   "id": "2acd2e6e",
   "metadata": {},
   "outputs": [],
   "source": [
    "cap = cv2.VideoCapture(0)\n",
    "\n",
    "\n",
    "\n",
    "while True : \n",
    "    \n",
    "    ret , frame = cap.read(0)\n",
    "    \n",
    "    new  = detect_face(frame)\n",
    "\n",
    "    cv2.imshow('Your face',new)\n",
    "\n",
    "    \n",
    "    #cv2.imshow('only' , only_face)\n",
    "    \n",
    "    c = cv2.waitKey(10) \n",
    "    if c == 27: \n",
    "        break \n",
    "        \n",
    "cap.release() \n",
    "cv2.destroyAllWindows()"
   ]
  }
 ],
 "metadata": {
  "kernelspec": {
   "display_name": "Python 3",
   "language": "python",
   "name": "python3"
  },
  "language_info": {
   "codemirror_mode": {
    "name": "ipython",
    "version": 3
   },
   "file_extension": ".py",
   "mimetype": "text/x-python",
   "name": "python",
   "nbconvert_exporter": "python",
   "pygments_lexer": "ipython3",
   "version": "3.8.8"
  }
 },
 "nbformat": 4,
 "nbformat_minor": 5
}
